{
 "cells": [
  {
   "cell_type": "markdown",
   "metadata": {},
   "source": [
    "# Navigation\n",
    "\n",
    "---\n",
    "\n",
    "You are welcome to use this coding environment to train your agent for the project.  Follow the instructions below to get started!\n",
    "\n",
    "### 1. Start the Environment\n",
    "\n",
    "Run the next code cell to install a few packages.  This line will take a few minutes to run!"
   ]
  },
  {
   "cell_type": "code",
   "execution_count": 1,
   "metadata": {},
   "outputs": [
    {
     "name": "stdout",
     "output_type": "stream",
     "text": [
      "Python 3.6.8 :: Anaconda, Inc.\n",
      "Requirement already satisfied: tensorflow==1.7.1 in /home/mac/anaconda3/envs/udacity/lib/python3.6/site-packages (from -r requirements.txt (line 1)) (1.7.1)\n",
      "Requirement already satisfied: Pillow>=4.2.1 in /home/mac/anaconda3/envs/udacity/lib/python3.6/site-packages (from -r requirements.txt (line 2)) (5.4.1)\n",
      "Requirement already satisfied: matplotlib in /home/mac/.local/lib/python3.6/site-packages (from -r requirements.txt (line 3)) (3.0.2)\n",
      "Requirement already satisfied: numpy>=1.11.0 in /home/mac/.local/lib/python3.6/site-packages (from -r requirements.txt (line 4)) (1.16.1)\n",
      "Requirement already satisfied: jupyter in /home/mac/anaconda3/envs/udacity/lib/python3.6/site-packages (from -r requirements.txt (line 5)) (1.0.0)\n",
      "Requirement already satisfied: pytest>=3.2.2 in /home/mac/anaconda3/envs/udacity/lib/python3.6/site-packages (from -r requirements.txt (line 6)) (4.2.0)\n",
      "Requirement already satisfied: docopt in /home/mac/anaconda3/envs/udacity/lib/python3.6/site-packages (from -r requirements.txt (line 7)) (0.6.2)\n",
      "Requirement already satisfied: pyyaml in /home/mac/anaconda3/envs/udacity/lib/python3.6/site-packages (from -r requirements.txt (line 8)) (3.13)\n",
      "Requirement already satisfied: protobuf==3.5.2 in /home/mac/anaconda3/envs/udacity/lib/python3.6/site-packages (from -r requirements.txt (line 9)) (3.5.2)\n",
      "Requirement already satisfied: grpcio==1.11.0 in /home/mac/anaconda3/envs/udacity/lib/python3.6/site-packages (from -r requirements.txt (line 10)) (1.11.0)\n",
      "Requirement already satisfied: torch==0.4.0 in /home/mac/anaconda3/envs/udacity/lib/python3.6/site-packages (from -r requirements.txt (line 11)) (0.4.0)\n",
      "Requirement already satisfied: pandas in /home/mac/anaconda3/envs/udacity/lib/python3.6/site-packages (from -r requirements.txt (line 12)) (0.24.1)\n",
      "Requirement already satisfied: scipy in /home/mac/anaconda3/envs/udacity/lib/python3.6/site-packages (from -r requirements.txt (line 13)) (1.2.0)\n",
      "Requirement already satisfied: ipykernel in /home/mac/anaconda3/envs/udacity/lib/python3.6/site-packages (from -r requirements.txt (line 14)) (5.1.0)\n",
      "Requirement already satisfied: unityagents in /home/mac/anaconda3/envs/udacity/lib/python3.6/site-packages (from -r requirements.txt (line 15)) (0.4.0)\n",
      "Requirement already satisfied: click in /home/mac/anaconda3/envs/udacity/lib/python3.6/site-packages (from -r requirements.txt (line 16)) (7.0)\n",
      "Requirement already satisfied: wheel>=0.26 in /home/mac/.local/lib/python3.6/site-packages (from tensorflow==1.7.1->-r requirements.txt (line 1)) (0.32.3)\n",
      "Requirement already satisfied: gast>=0.2.0 in /home/mac/.local/lib/python3.6/site-packages (from tensorflow==1.7.1->-r requirements.txt (line 1)) (0.2.2)\n",
      "Requirement already satisfied: six>=1.10.0 in /home/mac/.local/lib/python3.6/site-packages (from tensorflow==1.7.1->-r requirements.txt (line 1)) (1.12.0)\n",
      "Requirement already satisfied: termcolor>=1.1.0 in /home/mac/.local/lib/python3.6/site-packages (from tensorflow==1.7.1->-r requirements.txt (line 1)) (1.1.0)\n",
      "Requirement already satisfied: tensorboard<1.8.0,>=1.7.0 in /home/mac/anaconda3/envs/udacity/lib/python3.6/site-packages (from tensorflow==1.7.1->-r requirements.txt (line 1)) (1.7.0)\n",
      "Requirement already satisfied: astor>=0.6.0 in /home/mac/.local/lib/python3.6/site-packages (from tensorflow==1.7.1->-r requirements.txt (line 1)) (0.7.1)\n",
      "Requirement already satisfied: absl-py>=0.1.6 in /home/mac/.local/lib/python3.6/site-packages (from tensorflow==1.7.1->-r requirements.txt (line 1)) (0.7.0)\n",
      "Requirement already satisfied: python-dateutil>=2.1 in /home/mac/.local/lib/python3.6/site-packages (from matplotlib->-r requirements.txt (line 3)) (2.7.5)\n",
      "Requirement already satisfied: cycler>=0.10 in /home/mac/.local/lib/python3.6/site-packages (from matplotlib->-r requirements.txt (line 3)) (0.10.0)\n",
      "Requirement already satisfied: kiwisolver>=1.0.1 in /home/mac/.local/lib/python3.6/site-packages (from matplotlib->-r requirements.txt (line 3)) (1.0.1)\n",
      "Requirement already satisfied: pyparsing!=2.0.4,!=2.1.2,!=2.1.6,>=2.0.1 in /home/mac/.local/lib/python3.6/site-packages (from matplotlib->-r requirements.txt (line 3)) (2.3.1)\n",
      "Requirement already satisfied: qtconsole in /home/mac/anaconda3/envs/udacity/lib/python3.6/site-packages (from jupyter->-r requirements.txt (line 5)) (4.4.3)\n",
      "Requirement already satisfied: nbconvert in /home/mac/anaconda3/envs/udacity/lib/python3.6/site-packages (from jupyter->-r requirements.txt (line 5)) (5.4.0)\n",
      "Requirement already satisfied: jupyter-console in /home/mac/anaconda3/envs/udacity/lib/python3.6/site-packages (from jupyter->-r requirements.txt (line 5)) (6.0.0)\n",
      "Requirement already satisfied: ipywidgets in /home/mac/anaconda3/envs/udacity/lib/python3.6/site-packages (from jupyter->-r requirements.txt (line 5)) (7.4.2)\n",
      "Requirement already satisfied: notebook in /home/mac/anaconda3/envs/udacity/lib/python3.6/site-packages (from jupyter->-r requirements.txt (line 5)) (5.7.4)\n",
      "Requirement already satisfied: pluggy>=0.7 in /home/mac/anaconda3/envs/udacity/lib/python3.6/site-packages (from pytest>=3.2.2->-r requirements.txt (line 6)) (0.8.1)\n",
      "Requirement already satisfied: atomicwrites>=1.0 in /home/mac/anaconda3/envs/udacity/lib/python3.6/site-packages (from pytest>=3.2.2->-r requirements.txt (line 6)) (1.3.0)\n",
      "Requirement already satisfied: attrs>=17.4.0 in /home/mac/anaconda3/envs/udacity/lib/python3.6/site-packages (from pytest>=3.2.2->-r requirements.txt (line 6)) (18.2.0)\n",
      "Requirement already satisfied: py>=1.5.0 in /home/mac/anaconda3/envs/udacity/lib/python3.6/site-packages (from pytest>=3.2.2->-r requirements.txt (line 6)) (1.7.0)\n",
      "Requirement already satisfied: setuptools in /home/mac/.local/lib/python3.6/site-packages (from pytest>=3.2.2->-r requirements.txt (line 6)) (40.7.2)\n",
      "Requirement already satisfied: more-itertools>=4.0.0 in /home/mac/anaconda3/envs/udacity/lib/python3.6/site-packages (from pytest>=3.2.2->-r requirements.txt (line 6)) (5.0.0)\n",
      "Requirement already satisfied: pytz>=2011k in /home/mac/anaconda3/envs/udacity/lib/python3.6/site-packages (from pandas->-r requirements.txt (line 12)) (2018.9)\n",
      "Requirement already satisfied: traitlets>=4.1.0 in /home/mac/anaconda3/envs/udacity/lib/python3.6/site-packages (from ipykernel->-r requirements.txt (line 14)) (4.3.2)\n",
      "Requirement already satisfied: jupyter-client in /home/mac/anaconda3/envs/udacity/lib/python3.6/site-packages (from ipykernel->-r requirements.txt (line 14)) (5.2.4)\n",
      "Requirement already satisfied: ipython>=5.0.0 in /home/mac/anaconda3/envs/udacity/lib/python3.6/site-packages (from ipykernel->-r requirements.txt (line 14)) (7.2.0)\n",
      "Requirement already satisfied: tornado>=4.2 in /home/mac/anaconda3/envs/udacity/lib/python3.6/site-packages (from ipykernel->-r requirements.txt (line 14)) (5.1.1)\n",
      "Requirement already satisfied: markdown>=2.6.8 in /home/mac/.local/lib/python3.6/site-packages (from tensorboard<1.8.0,>=1.7.0->tensorflow==1.7.1->-r requirements.txt (line 1)) (3.0.1)\n",
      "Requirement already satisfied: bleach==1.5.0 in /home/mac/anaconda3/envs/udacity/lib/python3.6/site-packages (from tensorboard<1.8.0,>=1.7.0->tensorflow==1.7.1->-r requirements.txt (line 1)) (1.5.0)\n",
      "Requirement already satisfied: html5lib==0.9999999 in /home/mac/anaconda3/envs/udacity/lib/python3.6/site-packages (from tensorboard<1.8.0,>=1.7.0->tensorflow==1.7.1->-r requirements.txt (line 1)) (0.9999999)\n",
      "Requirement already satisfied: werkzeug>=0.11.10 in /home/mac/.local/lib/python3.6/site-packages (from tensorboard<1.8.0,>=1.7.0->tensorflow==1.7.1->-r requirements.txt (line 1)) (0.14.1)\n",
      "Requirement already satisfied: jupyter-core in /home/mac/anaconda3/envs/udacity/lib/python3.6/site-packages (from qtconsole->jupyter->-r requirements.txt (line 5)) (4.4.0)\n",
      "Requirement already satisfied: ipython-genutils in /home/mac/anaconda3/envs/udacity/lib/python3.6/site-packages (from qtconsole->jupyter->-r requirements.txt (line 5)) (0.2.0)\n",
      "Requirement already satisfied: pygments in /home/mac/anaconda3/envs/udacity/lib/python3.6/site-packages (from qtconsole->jupyter->-r requirements.txt (line 5)) (2.3.1)\n",
      "Requirement already satisfied: defusedxml in /home/mac/anaconda3/envs/udacity/lib/python3.6/site-packages (from nbconvert->jupyter->-r requirements.txt (line 5)) (0.5.0)\n",
      "Requirement already satisfied: mistune>=0.8.1 in /home/mac/anaconda3/envs/udacity/lib/python3.6/site-packages (from nbconvert->jupyter->-r requirements.txt (line 5)) (0.8.4)\n",
      "Requirement already satisfied: jinja2 in /home/mac/anaconda3/envs/udacity/lib/python3.6/site-packages (from nbconvert->jupyter->-r requirements.txt (line 5)) (2.10)\n",
      "Requirement already satisfied: entrypoints>=0.2.2 in /home/mac/anaconda3/envs/udacity/lib/python3.6/site-packages (from nbconvert->jupyter->-r requirements.txt (line 5)) (0.3)\n",
      "Requirement already satisfied: testpath in /home/mac/anaconda3/envs/udacity/lib/python3.6/site-packages (from nbconvert->jupyter->-r requirements.txt (line 5)) (0.4.2)\n",
      "Requirement already satisfied: pandocfilters>=1.4.1 in /home/mac/anaconda3/envs/udacity/lib/python3.6/site-packages (from nbconvert->jupyter->-r requirements.txt (line 5)) (1.4.2)\n"
     ]
    },
    {
     "name": "stdout",
     "output_type": "stream",
     "text": [
      "Requirement already satisfied: nbformat>=4.4 in /home/mac/anaconda3/envs/udacity/lib/python3.6/site-packages (from nbconvert->jupyter->-r requirements.txt (line 5)) (4.4.0)\r\n",
      "Requirement already satisfied: prompt-toolkit<2.1.0,>=2.0.0 in /home/mac/anaconda3/envs/udacity/lib/python3.6/site-packages (from jupyter-console->jupyter->-r requirements.txt (line 5)) (2.0.8)\r\n",
      "Requirement already satisfied: widgetsnbextension~=3.4.0 in /home/mac/anaconda3/envs/udacity/lib/python3.6/site-packages (from ipywidgets->jupyter->-r requirements.txt (line 5)) (3.4.2)\r\n",
      "Requirement already satisfied: prometheus-client in /home/mac/anaconda3/envs/udacity/lib/python3.6/site-packages (from notebook->jupyter->-r requirements.txt (line 5)) (0.5.0)\r\n",
      "Requirement already satisfied: pyzmq>=17 in /home/mac/anaconda3/envs/udacity/lib/python3.6/site-packages (from notebook->jupyter->-r requirements.txt (line 5)) (17.1.2)\r\n",
      "Requirement already satisfied: terminado>=0.8.1 in /home/mac/anaconda3/envs/udacity/lib/python3.6/site-packages (from notebook->jupyter->-r requirements.txt (line 5)) (0.8.1)\r\n",
      "Requirement already satisfied: Send2Trash in /home/mac/anaconda3/envs/udacity/lib/python3.6/site-packages (from notebook->jupyter->-r requirements.txt (line 5)) (1.5.0)\r\n",
      "Requirement already satisfied: decorator in /home/mac/anaconda3/envs/udacity/lib/python3.6/site-packages (from traitlets>=4.1.0->ipykernel->-r requirements.txt (line 14)) (4.3.2)\r\n",
      "Requirement already satisfied: pexpect; sys_platform != \"win32\" in /home/mac/anaconda3/envs/udacity/lib/python3.6/site-packages (from ipython>=5.0.0->ipykernel->-r requirements.txt (line 14)) (4.6.0)\r\n",
      "Requirement already satisfied: jedi>=0.10 in /home/mac/anaconda3/envs/udacity/lib/python3.6/site-packages (from ipython>=5.0.0->ipykernel->-r requirements.txt (line 14)) (0.13.2)\r\n",
      "Requirement already satisfied: backcall in /home/mac/anaconda3/envs/udacity/lib/python3.6/site-packages (from ipython>=5.0.0->ipykernel->-r requirements.txt (line 14)) (0.1.0)\r\n",
      "Requirement already satisfied: pickleshare in /home/mac/anaconda3/envs/udacity/lib/python3.6/site-packages (from ipython>=5.0.0->ipykernel->-r requirements.txt (line 14)) (0.7.5)\r\n",
      "Requirement already satisfied: MarkupSafe>=0.23 in /home/mac/anaconda3/envs/udacity/lib/python3.6/site-packages (from jinja2->nbconvert->jupyter->-r requirements.txt (line 5)) (1.1.0)\r\n",
      "Requirement already satisfied: jsonschema!=2.5.0,>=2.4 in /home/mac/anaconda3/envs/udacity/lib/python3.6/site-packages (from nbformat>=4.4->nbconvert->jupyter->-r requirements.txt (line 5)) (2.6.0)\r\n",
      "Requirement already satisfied: wcwidth in /home/mac/anaconda3/envs/udacity/lib/python3.6/site-packages (from prompt-toolkit<2.1.0,>=2.0.0->jupyter-console->jupyter->-r requirements.txt (line 5)) (0.1.7)\r\n",
      "Requirement already satisfied: ptyprocess; os_name != \"nt\" in /home/mac/anaconda3/envs/udacity/lib/python3.6/site-packages (from terminado>=0.8.1->notebook->jupyter->-r requirements.txt (line 5)) (0.6.0)\r\n",
      "Requirement already satisfied: parso>=0.3.0 in /home/mac/anaconda3/envs/udacity/lib/python3.6/site-packages (from jedi>=0.10->ipython>=5.0.0->ipykernel->-r requirements.txt (line 14)) (0.3.3)\r\n"
     ]
    }
   ],
   "source": [
    "!python3 --version\n",
    "!pip install -r requirements.txt"
   ]
  },
  {
   "cell_type": "markdown",
   "metadata": {},
   "source": [
    "The environment is already saved in the Workspace and can be accessed at the file path provided below.  Please run the next code cell without making any changes."
   ]
  },
  {
   "cell_type": "code",
   "execution_count": 2,
   "metadata": {},
   "outputs": [
    {
     "name": "stderr",
     "output_type": "stream",
     "text": [
      "INFO:unityagents:\n",
      "'Academy' started successfully!\n",
      "Unity Academy name: Academy\n",
      "        Number of Brains: 1\n",
      "        Number of External Brains : 1\n",
      "        Lesson number : 0\n",
      "        Reset Parameters :\n",
      "\t\t\n",
      "Unity brain name: BananaBrain\n",
      "        Number of Visual Observations (per agent): 0\n",
      "        Vector Observation space type: continuous\n",
      "        Vector Observation space size (per agent): 37\n",
      "        Number of stacked Vector Observation: 1\n",
      "        Vector Action space type: discrete\n",
      "        Vector Action space size (per agent): 4\n",
      "        Vector Action descriptions: , , , \n"
     ]
    }
   ],
   "source": [
    "from unityagents import UnityEnvironment\n",
    "import numpy as np\n",
    "import matplotlib.pyplot as plt\n",
    "\n",
    "# please do not modify the line below\n",
    "env = UnityEnvironment(file_name=\"./Banana_Linux/Banana.x86_64\")"
   ]
  },
  {
   "cell_type": "markdown",
   "metadata": {},
   "source": [
    "Environments contain **_brains_** which are responsible for deciding the actions of their associated agents. Here we check for the first brain available, and set it as the default brain we will be controlling from Python."
   ]
  },
  {
   "cell_type": "code",
   "execution_count": 3,
   "metadata": {},
   "outputs": [],
   "source": [
    "# get the default brain\n",
    "brain_name = env.brain_names[0]\n",
    "brain = env.brains[brain_name]"
   ]
  },
  {
   "cell_type": "markdown",
   "metadata": {},
   "source": [
    "### 2. Examine the State and Action Spaces\n",
    "\n",
    "Run the code cell below to print some information about the environment."
   ]
  },
  {
   "cell_type": "code",
   "execution_count": 4,
   "metadata": {},
   "outputs": [
    {
     "name": "stdout",
     "output_type": "stream",
     "text": [
      "Number of agents: 1\n",
      "Number of actions: 4\n",
      "States look like: [1.         0.         0.         0.         0.84408134 0.\n",
      " 0.         1.         0.         0.0748472  0.         1.\n",
      " 0.         0.         0.25755    1.         0.         0.\n",
      " 0.         0.74177343 0.         1.         0.         0.\n",
      " 0.25854847 0.         0.         1.         0.         0.09355672\n",
      " 0.         1.         0.         0.         0.31969345 0.\n",
      " 0.        ]\n",
      "States have length: 37\n"
     ]
    }
   ],
   "source": [
    "# reset the environment\n",
    "env_info = env.reset(train_mode=True)[brain_name]\n",
    "\n",
    "# number of agents in the environment\n",
    "print('Number of agents:', len(env_info.agents))\n",
    "\n",
    "# number of actions\n",
    "action_size = brain.vector_action_space_size\n",
    "print('Number of actions:', action_size)\n",
    "\n",
    "# examine the state space \n",
    "state = env_info.vector_observations[0]\n",
    "print('States look like:', state)\n",
    "state_size = len(state)\n",
    "print('States have length:', state_size)"
   ]
  },
  {
   "cell_type": "markdown",
   "metadata": {},
   "source": [
    "### 3. Take Random Actions in the Environment\n",
    "\n",
    "In the next code cell, you will learn how to use the Python API to control the agent and receive feedback from the environment.\n",
    "\n",
    "Note that **in this coding environment, you will not be able to watch the agent while it is training**, and you should set `train_mode=True` to restart the environment."
   ]
  },
  {
   "cell_type": "code",
   "execution_count": 5,
   "metadata": {},
   "outputs": [
    {
     "name": "stdout",
     "output_type": "stream",
     "text": [
      "Score: 0.0\n"
     ]
    }
   ],
   "source": [
    "env_info = env.reset(train_mode=True)[brain_name] # reset the environment\n",
    "state = env_info.vector_observations[0]            # get the current state\n",
    "score = 0                                          # initialize the score\n",
    "while True:\n",
    "    action = np.random.randint(action_size)        # select an action\n",
    "    env_info = env.step(action)[brain_name]        # send the action to the environment\n",
    "    next_state = env_info.vector_observations[0]   # get the next state\n",
    "    reward = env_info.rewards[0]                   # get the reward\n",
    "    done = env_info.local_done[0]                  # see if episode has finished\n",
    "    score += reward                                # update the score\n",
    "    state = next_state                             # roll over the state to next time step\n",
    "    if done:                                       # exit loop if episode finished\n",
    "        break\n",
    "    \n",
    "print(\"Score: {}\".format(score))"
   ]
  },
  {
   "cell_type": "markdown",
   "metadata": {},
   "source": [
    "### 4. Train Agent in the Environment\n",
    "\n",
    "We will train agent for around 2500 episodes or until the agents scores more than 13 average score in 100 consecutive episodes"
   ]
  },
  {
   "cell_type": "code",
   "execution_count": 6,
   "metadata": {
    "scrolled": true
   },
   "outputs": [
    {
     "name": "stdout",
     "output_type": "stream",
     "text": [
      "Number of agents: 1\n",
      "Number of actions: 4\n",
      "States look like: [0.         0.         1.         0.         0.16101955 1.\n",
      " 0.         0.         0.         0.04571758 1.         0.\n",
      " 0.         0.         0.2937662  0.         0.         1.\n",
      " 0.         0.14386636 0.         0.         1.         0.\n",
      " 0.16776823 1.         0.         0.         0.         0.04420976\n",
      " 1.         0.         0.         0.         0.05423063 0.\n",
      " 0.        ]\n",
      "States have length: 37\n",
      "Episode 100\tAverage Score: 0.34\n",
      "Episode 200\tAverage Score: 0.65\n",
      "Episode 300\tAverage Score: 1.09\n",
      "Episode 400\tAverage Score: 2.56\n",
      "Episode 500\tAverage Score: 3.80\n",
      "Episode 600\tAverage Score: 4.61\n",
      "Episode 700\tAverage Score: 5.32\n",
      "Episode 800\tAverage Score: 6.21\n",
      "Episode 900\tAverage Score: 6.99\n",
      "Episode 1000\tAverage Score: 7.13\n",
      "Episode 1100\tAverage Score: 8.12\n",
      "Episode 1200\tAverage Score: 9.33\n",
      "Episode 1300\tAverage Score: 9.78\n",
      "Episode 1400\tAverage Score: 9.988\n",
      "Episode 1500\tAverage Score: 10.41\n",
      "Episode 1600\tAverage Score: 11.15\n",
      "Episode 1700\tAverage Score: 11.54\n",
      "Episode 1800\tAverage Score: 11.93\n",
      "Episode 1900\tAverage Score: 11.27\n",
      "Episode 2000\tAverage Score: 12.43\n",
      "Episode 2100\tAverage Score: 12.42\n",
      "Episode 2129\tAverage Score: 13.00\n",
      "Environment solved in 2029 episodes!\tAverage Score: 13.00\n"
     ]
    }
   ],
   "source": [
    "from main import dqn\n",
    "\n",
    "scores = dqn(env=env)"
   ]
  },
  {
   "cell_type": "code",
   "execution_count": 16,
   "metadata": {},
   "outputs": [
    {
     "data": {
      "text/plain": [
       "Text(0.5, 0, 'Episode #')"
      ]
     },
     "execution_count": 16,
     "metadata": {},
     "output_type": "execute_result"
    },
    {
     "data": {
      "image/png": "[encoded data removed]",
      "text/plain": [
       "<Figure size 432x288 with 1 Axes>"
      ]
     },
     "metadata": {
      "needs_background": "light"
     },
     "output_type": "display_data"
    }
   ],
   "source": [
    "plt.plot(np.arange(len(scores)), scores)\n",
    "plt.ylabel('Score')\n",
    "plt.xlabel('Episode #')"
   ]
  }
 ],
 "metadata": {
  "kernelspec": {
   "display_name": "Python 3",
   "language": "python",
   "name": "python3"
  },
  "language_info": {
   "codemirror_mode": {
    "name": "ipython",
    "version": 3
   },
   "file_extension": ".py",
   "mimetype": "text/x-python",
   "name": "python",
   "nbconvert_exporter": "python",
   "pygments_lexer": "ipython3",
   "version": "3.6.8"
  }
 },
 "nbformat": 4,
 "nbformat_minor": 2
}
